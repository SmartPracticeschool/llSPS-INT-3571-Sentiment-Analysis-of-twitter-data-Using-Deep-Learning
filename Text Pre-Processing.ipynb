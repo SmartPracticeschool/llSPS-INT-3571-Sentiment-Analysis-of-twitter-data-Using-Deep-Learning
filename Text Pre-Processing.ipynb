{
 "cells": [
  {
   "cell_type": "code",
   "execution_count": 1,
   "metadata": {},
   "outputs": [],
   "source": [
    "# \"Importing the libraries\"\n",
    "import numpy as np\n",
    "import matplotlib.pyplot as plt\n",
    "import pandas as pd"
   ]
  },
  {
   "cell_type": "code",
   "execution_count": 2,
   "metadata": {},
   "outputs": [],
   "source": [
    "# \"Library to clean the text\"\n",
    "# \"Natural language tool kit library\"\n",
    "import re\n",
    "import nltk"
   ]
  },
  {
   "cell_type": "code",
   "execution_count": 3,
   "metadata": {},
   "outputs": [],
   "source": [
    "# \"Importing the Dataset\"\n",
    "dataset = pd.read_csv('dataset.csv', encoding='latin1')"
   ]
  },
  {
   "cell_type": "code",
   "execution_count": 4,
   "metadata": {},
   "outputs": [
    {
     "name": "stderr",
     "output_type": "stream",
     "text": [
      "[nltk_data] Downloading package stopwords to\n",
      "[nltk_data]     C:\\Users\\lenovo\\AppData\\Roaming\\nltk_data...\n",
      "[nltk_data]   Package stopwords is already up-to-date!\n"
     ]
    }
   ],
   "source": [
    "# \"library used to remove stop words\"\n",
    "nltk.download('stopwords')\n",
    "from nltk.corpus import stopwords"
   ]
  },
  {
   "cell_type": "code",
   "execution_count": 5,
   "metadata": {},
   "outputs": [],
   "source": [
    "# \"library used for stemming\"\n",
    "from nltk.stem.porter import PorterStemmer"
   ]
  },
  {
   "cell_type": "code",
   "execution_count": 6,
   "metadata": {},
   "outputs": [],
   "source": [
    "# \"Creating an object of stemming\"\n",
    "ps = PorterStemmer()"
   ]
  },
  {
   "cell_type": "code",
   "execution_count": 7,
   "metadata": {},
   "outputs": [],
   "source": [
    "data=[]\n",
    "for i in range(0,99989):\n",
    "    # \"Replacing puncuation and number using re library\"\n",
    "    review = dataset[\"SentimentText\"][i]\n",
    "    review = re.sub('[^a-zA-Z]', '', review)\n",
    "    # \"Convert each word into lower case\"\n",
    "    review = review.lower()\n",
    "    # \"split the variable\"\n",
    "    review = review.split()\n",
    "    # \"Apply stemming\"\n",
    "    review = [ps.stem(\"word\") for word in review if not word in set(stopwords.words('english'))]\n",
    "    review = ''.join(review)\n",
    "    data.append(review)"
   ]
  },
  {
   "cell_type": "code",
   "execution_count": 8,
   "metadata": {},
   "outputs": [],
   "source": [
    "# \"creating the bag of words model\"\n",
    "from sklearn.feature_extraction.text import CountVectorizer"
   ]
  },
  {
   "cell_type": "code",
   "execution_count": 9,
   "metadata": {},
   "outputs": [],
   "source": [
    "# \"To extract max 1500 feacture\"\n",
    "cv = CountVectorizer(max_features=1500)"
   ]
  },
  {
   "cell_type": "code",
   "execution_count": 10,
   "metadata": {},
   "outputs": [],
   "source": [
    "# \"X contain vectorised data (in dependent variable)\"\n",
    "X = cv.fit_transform(data).toarray()"
   ]
  },
  {
   "cell_type": "code",
   "execution_count": 11,
   "metadata": {},
   "outputs": [],
   "source": [
    "# \"y as dependent variable\"\n",
    "y=dataset.iloc[:,1].values"
   ]
  },
  {
   "cell_type": "code",
   "execution_count": 12,
   "metadata": {},
   "outputs": [],
   "source": [
    "# \"splitting the data into xtrain, xtest, ytrain and ytest\"\n",
    "from sklearn.model_selection import train_test_split\n",
    "X_train,X_test,y_train,y_test = train_test_split(X,y,test_size=0.20, random_state=0)"
   ]
  },
  {
   "cell_type": "code",
   "execution_count": 13,
   "metadata": {},
   "outputs": [
    {
     "name": "stderr",
     "output_type": "stream",
     "text": [
      "Using TensorFlow backend.\n"
     ]
    }
   ],
   "source": [
    "# \"import library which usess tensor flow as backend\"\n",
    "import keras\n",
    "# \"Library to initialise the model\"\n",
    "from keras.models import Sequential\n",
    "# \"library used to add layers\"\n",
    "from keras.layers import Dense"
   ]
  },
  {
   "cell_type": "code",
   "execution_count": 14,
   "metadata": {},
   "outputs": [],
   "source": [
    "# \"Initializing the model\"\n",
    "model=Sequential()"
   ]
  },
  {
   "cell_type": "code",
   "execution_count": 15,
   "metadata": {},
   "outputs": [
    {
     "name": "stderr",
     "output_type": "stream",
     "text": [
      "C:\\Users\\lenovo\\anaconda3\\envs\\deep learning\\lib\\site-packages\\ipykernel_launcher.py:2: UserWarning: Update your `Dense` call to the Keras 2 API: `Dense(activation=\"relu\", input_dim=1, units=20, kernel_initializer=\"uniform\")`\n",
      "  \n"
     ]
    }
   ],
   "source": [
    "# \"Adding input layer\"\n",
    "model.add(Dense(output_dim = 20, init='uniform', activation='relu', input_dim = 1))"
   ]
  },
  {
   "cell_type": "code",
   "execution_count": 16,
   "metadata": {},
   "outputs": [
    {
     "name": "stderr",
     "output_type": "stream",
     "text": [
      "C:\\Users\\lenovo\\anaconda3\\envs\\deep learning\\lib\\site-packages\\ipykernel_launcher.py:2: UserWarning: Update your `Dense` call to the Keras 2 API: `Dense(activation=\"relu\", units=10, kernel_initializer=\"uniform\")`\n",
      "  \n"
     ]
    }
   ],
   "source": [
    "# \"Adding hidden layer\"\n",
    "model.add(Dense(output_dim = 10, init='uniform', activation='relu'))"
   ]
  },
  {
   "cell_type": "code",
   "execution_count": 17,
   "metadata": {},
   "outputs": [
    {
     "name": "stderr",
     "output_type": "stream",
     "text": [
      "C:\\Users\\lenovo\\anaconda3\\envs\\deep learning\\lib\\site-packages\\ipykernel_launcher.py:2: UserWarning: Update your `Dense` call to the Keras 2 API: `Dense(activation=\"sigmoid\", units=1, kernel_initializer=\"uniform\")`\n",
      "  \n"
     ]
    }
   ],
   "source": [
    "# \"Adding Output layer\"\n",
    "model.add(Dense(output_dim = 1, init='uniform', activation='sigmoid'))"
   ]
  },
  {
   "cell_type": "code",
   "execution_count": 18,
   "metadata": {},
   "outputs": [],
   "source": [
    "# \"Configuring the learning process\"\n",
    "model.compile(optimizer='adam', loss='binary_crossentropy', metrics = ['accuracy'])"
   ]
  },
  {
   "cell_type": "code",
   "execution_count": 19,
   "metadata": {},
   "outputs": [
    {
     "name": "stdout",
     "output_type": "stream",
     "text": [
      "Epoch 1/50\n",
      "79991/79991 [==============================] - 2s 31us/step - loss: 0.6849 - accuracy: 0.5656\n",
      "Epoch 2/50\n",
      "79991/79991 [==============================] - 3s 32us/step - loss: 0.6846 - accuracy: 0.5656 0s - loss: 0.6846 - accu\n",
      "Epoch 3/50\n",
      "79991/79991 [==============================] - 2s 29us/step - loss: 0.6846 - accuracy: 0.5656\n",
      "Epoch 4/50\n",
      "79991/79991 [==============================] - 2s 29us/step - loss: 0.6846 - accuracy: 0.5656\n",
      "Epoch 5/50\n",
      "79991/79991 [==============================] - 2s 28us/step - loss: 0.6846 - accuracy: 0.5656\n",
      "Epoch 6/50\n",
      "79991/79991 [==============================] - 3s 32us/step - loss: 0.6846 - accuracy: 0.5656\n",
      "Epoch 7/50\n",
      "79991/79991 [==============================] - 2s 28us/step - loss: 0.6846 - accuracy: 0.5656\n",
      "Epoch 8/50\n",
      "79991/79991 [==============================] - 2s 27us/step - loss: 0.6846 - accuracy: 0.5656\n",
      "Epoch 9/50\n",
      "79991/79991 [==============================] - 2s 29us/step - loss: 0.6846 - accuracy: 0.5656\n",
      "Epoch 10/50\n",
      "79991/79991 [==============================] - ETA: 0s - loss: 0.6845 - accuracy: 0.56 - 2s 30us/step - loss: 0.6846 - accuracy: 0.5656\n",
      "Epoch 11/50\n",
      "79991/79991 [==============================] - 2s 30us/step - loss: 0.6846 - accuracy: 0.5656\n",
      "Epoch 12/50\n",
      "79991/79991 [==============================] - 3s 36us/step - loss: 0.6846 - accuracy: 0.5656\n",
      "Epoch 13/50\n",
      "79991/79991 [==============================] - 2s 31us/step - loss: 0.6846 - accuracy: 0.5656\n",
      "Epoch 14/50\n",
      "79991/79991 [==============================] - 2s 30us/step - loss: 0.6846 - accuracy: 0.5656\n",
      "Epoch 15/50\n",
      "79991/79991 [==============================] - 2s 31us/step - loss: 0.6846 - accuracy: 0.5656\n",
      "Epoch 16/50\n",
      "79991/79991 [==============================] - 2s 29us/step - loss: 0.6846 - accuracy: 0.5656\n",
      "Epoch 17/50\n",
      "79991/79991 [==============================] - 2s 31us/step - loss: 0.6845 - accuracy: 0.5656\n",
      "Epoch 18/50\n",
      "79991/79991 [==============================] - 2s 27us/step - loss: 0.6846 - accuracy: 0.5656\n",
      "Epoch 19/50\n",
      "79991/79991 [==============================] - 3s 33us/step - loss: 0.6845 - accuracy: 0.5656\n",
      "Epoch 20/50\n",
      "79991/79991 [==============================] - 2s 29us/step - loss: 0.6846 - accuracy: 0.5656\n",
      "Epoch 21/50\n",
      "79991/79991 [==============================] - 2s 26us/step - loss: 0.6845 - accuracy: 0.5656\n",
      "Epoch 22/50\n",
      "79991/79991 [==============================] - 2s 26us/step - loss: 0.6846 - accuracy: 0.5656\n",
      "Epoch 23/50\n",
      "79991/79991 [==============================] - 2s 28us/step - loss: 0.6846 - accuracy: 0.5656\n",
      "Epoch 24/50\n",
      "79991/79991 [==============================] - 2s 28us/step - loss: 0.6846 - accuracy: 0.5656\n",
      "Epoch 25/50\n",
      "79991/79991 [==============================] - 2s 29us/step - loss: 0.6846 - accuracy: 0.5656\n",
      "Epoch 26/50\n",
      "79991/79991 [==============================] - 3s 32us/step - loss: 0.6846 - accuracy: 0.5656\n",
      "Epoch 27/50\n",
      "79991/79991 [==============================] - 2s 25us/step - loss: 0.6846 - accuracy: 0.5656\n",
      "Epoch 28/50\n",
      "79991/79991 [==============================] - 2s 28us/step - loss: 0.6845 - accuracy: 0.5656\n",
      "Epoch 29/50\n",
      "79991/79991 [==============================] - 2s 28us/step - loss: 0.6846 - accuracy: 0.5656\n",
      "Epoch 30/50\n",
      "79991/79991 [==============================] - 2s 25us/step - loss: 0.6845 - accuracy: 0.5656\n",
      "Epoch 31/50\n",
      "79991/79991 [==============================] - 2s 27us/step - loss: 0.6845 - accuracy: 0.5656\n",
      "Epoch 32/50\n",
      "79991/79991 [==============================] - 2s 27us/step - loss: 0.6846 - accuracy: 0.5656\n",
      "Epoch 33/50\n",
      "79991/79991 [==============================] - 3s 34us/step - loss: 0.6845 - accuracy: 0.5656\n",
      "Epoch 34/50\n",
      "79991/79991 [==============================] - 2s 31us/step - loss: 0.6846 - accuracy: 0.5656\n",
      "Epoch 35/50\n",
      "79991/79991 [==============================] - 3s 34us/step - loss: 0.6845 - accuracy: 0.5656\n",
      "Epoch 36/50\n",
      "79991/79991 [==============================] - 3s 32us/step - loss: 0.6845 - accuracy: 0.5656\n",
      "Epoch 37/50\n",
      "79991/79991 [==============================] - 3s 33us/step - loss: 0.6845 - accuracy: 0.5656\n",
      "Epoch 38/50\n",
      "79991/79991 [==============================] - 3s 33us/step - loss: 0.6845 - accuracy: 0.5656\n",
      "Epoch 39/50\n",
      "79991/79991 [==============================] - 3s 38us/step - loss: 0.6845 - accuracy: 0.5656\n",
      "Epoch 40/50\n",
      "79991/79991 [==============================] - 3s 32us/step - loss: 0.6846 - accuracy: 0.5656\n",
      "Epoch 41/50\n",
      "79991/79991 [==============================] - 3s 33us/step - loss: 0.6845 - accuracy: 0.5656\n",
      "Epoch 42/50\n",
      "79991/79991 [==============================] - 3s 34us/step - loss: 0.6846 - accuracy: 0.5656\n",
      "Epoch 43/50\n",
      "79991/79991 [==============================] - 3s 32us/step - loss: 0.6846 - accuracy: 0.5656\n",
      "Epoch 44/50\n",
      "79991/79991 [==============================] - 3s 33us/step - loss: 0.6845 - accuracy: 0.5656\n",
      "Epoch 45/50\n",
      "79991/79991 [==============================] - 3s 37us/step - loss: 0.6846 - accuracy: 0.5656\n",
      "Epoch 46/50\n",
      "79991/79991 [==============================] - 2s 30us/step - loss: 0.6845 - accuracy: 0.5656\n",
      "Epoch 47/50\n",
      "79991/79991 [==============================] - 2s 30us/step - loss: 0.6845 - accuracy: 0.5656\n",
      "Epoch 48/50\n",
      "79991/79991 [==============================] - 3s 31us/step - loss: 0.6845 - accuracy: 0.5656\n",
      "Epoch 49/50\n",
      "79991/79991 [==============================] - 2s 30us/step - loss: 0.6846 - accuracy: 0.5656\n",
      "Epoch 50/50\n",
      "79991/79991 [==============================] - 2s 30us/step - loss: 0.6846 - accuracy: 0.5656\n"
     ]
    },
    {
     "data": {
      "text/plain": [
       "<keras.callbacks.callbacks.History at 0x285e5bb8c08>"
      ]
     },
     "execution_count": 19,
     "metadata": {},
     "output_type": "execute_result"
    }
   ],
   "source": [
    "# \"Training the model\"\n",
    "model.fit(X_train,y_train,epochs=50,batch_size=32)"
   ]
  },
  {
   "cell_type": "code",
   "execution_count": 20,
   "metadata": {},
   "outputs": [],
   "source": [
    "# \"Save the model\"\n",
    "model.save('mymodel.h5')"
   ]
  }
 ],
 "metadata": {
  "kernelspec": {
   "display_name": "Python 3",
   "language": "python",
   "name": "python3"
  },
  "language_info": {
   "codemirror_mode": {
    "name": "ipython",
    "version": 3
   },
   "file_extension": ".py",
   "mimetype": "text/x-python",
   "name": "python",
   "nbconvert_exporter": "python",
   "pygments_lexer": "ipython3",
   "version": "3.7.7"
  }
 },
 "nbformat": 4,
 "nbformat_minor": 4
}
